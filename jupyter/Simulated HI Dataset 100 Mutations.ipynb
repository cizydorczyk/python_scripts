{
 "cells": [
  {
   "cell_type": "code",
   "execution_count": 144,
   "metadata": {},
   "outputs": [
    {
     "name": "stdout",
     "output_type": "stream",
     "text": [
      "Length of reference genome:  1830138 bp\n"
     ]
    }
   ],
   "source": [
    "from Bio import SeqIO\n",
    "from Bio.Seq import Seq\n",
    "from Bio.SeqRecord import SeqRecord\n",
    "import random\n",
    "\n",
    "for seq_record in SeqIO.parse(\"/home/conrad/hinfluenzae/synthetic_Rd_KW20_dataset/HI_Rd_KW20_reference_genome.fasta\", \"fasta\"):\n",
    "    ref_sequence_r = seq_record\n",
    "    \n",
    "ref_seq_list = list(ref_sequence_r.seq)\n",
    "print(\"Length of reference genome: \", len(ref_seq_list), \"bp\")\n",
    "    \n",
    "DNA_A_alph = [\"T\", \"C\", \"G\"]\n",
    "DNA_T_alph = [\"A\", \"C\", \"G\"]\n",
    "DNA_C_alph = [\"A\", \"T\", \"G\"]\n",
    "DNA_G_alph = [\"A\", \"T\", \"C\"]\n",
    "\n",
    "def generate_mutated_sequence(ref_seq_list, seed, num_of_mutations, new_seq_id):\n",
    "\n",
    "    random.seed(a=seed)\n",
    "    positions_to_mutate = random.sample(range(0,len(ref_seq_list)), num_of_mutations)\n",
    "    \n",
    "    mutations = {}\n",
    "    \n",
    "    for position in positions_to_mutate:\n",
    "        # Get the current base:\n",
    "        current_base = ref_seq_list[position]\n",
    "        # Get mutated base that is different from current base:\n",
    "        if current_base == \"A\":\n",
    "            mutated_base = random.choice(DNA_A_alph)\n",
    "        elif current_base == \"T\":\n",
    "            mutated_base = random.choice(DNA_T_alph)\n",
    "        elif current_base == \"C\":\n",
    "            mutated_base = random.choice(DNA_C_alph)\n",
    "        elif current_base == \"G\":\n",
    "            mutated_base = random.choice(DNA_G_alph)\n",
    "    # Append mutated base to dictionary of mutations:\n",
    "        mutations[position] = mutated_base\n",
    "    \n",
    "    mutated_sequence = ref_seq_list.copy()\n",
    "    for key in mutations:\n",
    "        mutated_sequence[key] = mutations[key]\n",
    "    \n",
    "    mutated_seq_obj = Seq(''.join(mutated_sequence))\n",
    "    mutated_seq_r = SeqRecord(mutated_seq_obj)\n",
    "    mutated_seq_r.id = new_seq_id\n",
    "    mutated_seq_r.description = str(num_of_mutations) + \"_mutations\"\n",
    "    \n",
    "    # Generate list of 1-based positions that were mutated:\n",
    "    mutated_positions = []\n",
    "    for position in positions_to_mutate:\n",
    "        mutated_positions.append(position +1)\n",
    "    \n",
    "    return [mutated_seq_r, mutated_positions]\n",
    "\n",
    "\n"
   ]
  },
  {
   "cell_type": "code",
   "execution_count": 132,
   "metadata": {},
   "outputs": [
    {
     "name": "stdout",
     "output_type": "stream",
     "text": [
      "[832464450, 198383807, 539280473]\n"
     ]
    }
   ],
   "source": [
    "# Generate 3 random seeds:\n",
    "random_seeds = random.sample(range(1,1000000000), 3)\n",
    "print(random_seeds)"
   ]
  },
  {
   "cell_type": "code",
   "execution_count": 145,
   "metadata": {},
   "outputs": [
    {
     "name": "stdout",
     "output_type": "stream",
     "text": [
      "[SeqRecord(seq=Seq('TATGGCAATTAAAATTGGTATCAATGGTTTTGGTCGTATCGGCCGTATCGTATT...TCT'), id='HI_Syn_1', name='<unknown name>', description='100_mutations', dbxrefs=[]), [1808256, 844694, 11089, 170791, 1748324, 465883, 1185603, 1163414, 365632, 1790359, 544423, 162736, 398671, 1303026, 858550, 1758866, 874775, 1769196, 890338, 1322427, 931946, 1205023, 14272, 1360437, 1118046, 1160769, 1181475, 1423949, 1572948, 1576993, 1614632, 540217, 52153, 1063852, 1449762, 1138826, 1274152, 425923, 1782488, 1700888, 759980, 696007, 652676, 1338293, 262543, 1266264, 950437, 1189900, 1642906, 47303, 1009077, 126924, 192489, 1385422, 713272, 1349890, 1093255, 1519878, 1094054, 1104782, 1650883, 711771, 779977, 514048, 1442303, 1198718, 1678380, 664101, 601013, 199548, 1160758, 1192988, 1572086, 1815956, 937484, 730845, 1829278, 814167, 584742, 577514, 1314354, 787007, 1770117, 761025, 1761391, 1612743, 106770, 282772, 1084373, 1410927, 1423383, 1379247, 1507253, 356188, 771784, 621321, 1092941, 1602274, 1096701, 1487164]]\n"
     ]
    }
   ],
   "source": [
    "seq_1 = generate_mutated_sequence(ref_seq_list, random_seeds[0], 100, \"HI_Syn_1\")\n",
    "print(seq_1)"
   ]
  },
  {
   "cell_type": "code",
   "execution_count": 146,
   "metadata": {},
   "outputs": [
    {
     "name": "stdout",
     "output_type": "stream",
     "text": [
      "[SeqRecord(seq=Seq('TATGGCAATTAAAATTGGTATCAATGGTTTTGGTCGTATCGGCCGTATCGTATT...TCT'), id='HI_Syn_2', name='<unknown name>', description='100_mutations', dbxrefs=[]), [1554876, 1148499, 50827, 705792, 1077231, 1638677, 995899, 1230401, 1017794, 1286944, 623124, 374732, 821210, 738061, 1130524, 1506867, 1555802, 774484, 1763337, 79953, 838552, 1632769, 495570, 943995, 1498197, 729748, 390259, 853910, 867745, 1070805, 1163493, 1639531, 362861, 290118, 831987, 194501, 1581824, 48037, 1532561, 378679, 425581, 1710882, 1754623, 106482, 497838, 1388394, 983696, 27190, 1646590, 1448581, 1827703, 548152, 1368520, 273859, 261573, 650201, 1001476, 1563960, 1773725, 439003, 400766, 1089249, 1241870, 816855, 1281611, 85133, 1485025, 1084670, 1194895, 2911, 44414, 332578, 778641, 651139, 1604629, 1164247, 773915, 1392913, 44581, 51996, 1362857, 1319835, 1536776, 1187622, 27108, 1806067, 1721258, 1225674, 710623, 525262, 786595, 719681, 1492647, 1248636, 401972, 737858, 961255, 974862, 609197, 1628354]]\n"
     ]
    }
   ],
   "source": [
    "seq_2 = generate_mutated_sequence(ref_seq_list, random_seeds[1], 100, \"HI_Syn_2\")\n",
    "print(seq_2)"
   ]
  },
  {
   "cell_type": "code",
   "execution_count": 147,
   "metadata": {},
   "outputs": [
    {
     "name": "stdout",
     "output_type": "stream",
     "text": [
      "[SeqRecord(seq=Seq('TATGGCAATTAAAATTGGTATCAATGGTTTTGGTCGTATCGGCCGTATCGTATT...TCT'), id='HI_Syn_3', name='<unknown name>', description='100_mutations', dbxrefs=[]), [1130297, 1015760, 61775, 652106, 1548690, 1332964, 66057, 822379, 383271, 224648, 650756, 767633, 1031837, 1098105, 94086, 846778, 1206179, 641694, 438543, 364065, 1567922, 670287, 92907, 1006918, 535151, 51164, 474922, 1703424, 317552, 1222414, 824941, 1764503, 1293019, 164258, 566733, 799829, 312032, 1355782, 31202, 1081750, 355721, 717638, 1345686, 1182360, 1290675, 1518364, 1654925, 1133652, 378614, 1536694, 287579, 845186, 1641132, 67915, 206242, 761922, 1104761, 1442868, 537151, 123171, 712348, 692215, 399925, 1090266, 1479548, 1215915, 626772, 793627, 643655, 1498953, 428900, 557198, 488642, 146680, 1374499, 673833, 1236390, 1792596, 125358, 1634873, 1714474, 859184, 194669, 1540168, 838834, 1211235, 1767996, 896206, 1175228, 721703, 401550, 367756, 232255, 1429686, 667308, 442637, 73886, 926891, 1009450, 568325]]\n"
     ]
    }
   ],
   "source": [
    "seq_3 = generate_mutated_sequence(ref_seq_list, random_seeds[2], 100, \"HI_Syn_3\")\n",
    "print(seq_3)"
   ]
  },
  {
   "cell_type": "code",
   "execution_count": 162,
   "metadata": {},
   "outputs": [
    {
     "name": "stdout",
     "output_type": "stream",
     "text": [
      "Wrote sequences to file.\n"
     ]
    }
   ],
   "source": [
    "sequences_to_write = [ref_sequence_r, seq_1[0], seq_2[0], seq_3[0]]\n",
    "SeqIO.write(sequences_to_write, \"/home/conrad/hinfluenzae/synthetic_Rd_KW20_dataset/synthetic_sequences_100mut_alignment.fasta\", \"fasta\")\n",
    "SeqIO.write(seq_1[0], \"/home/conrad/hinfluenzae/synthetic_Rd_KW20_dataset/seq_1.fasta\", \"fasta\")\n",
    "SeqIO.write(seq_2[0], \"/home/conrad/hinfluenzae/synthetic_Rd_KW20_dataset/seq_2.fasta\", \"fasta\")\n",
    "SeqIO.write(seq_3[0], \"/home/conrad/hinfluenzae/synthetic_Rd_KW20_dataset/seq_3.fasta\", \"fasta\")\n",
    "\n",
    "print(\"Wrote sequences to file.\")\n"
   ]
  },
  {
   "cell_type": "code",
   "execution_count": 155,
   "metadata": {},
   "outputs": [
    {
     "name": "stdout",
     "output_type": "stream",
     "text": [
      "Total number of mutated positions:  300\n"
     ]
    }
   ],
   "source": [
    "all_mutated_positions = sorted(seq_3[1] + seq_2[1] + seq_1[1])\n",
    "print(\"Total number of mutated positions: \", len(all_mutated_positions))"
   ]
  },
  {
   "cell_type": "code",
   "execution_count": 157,
   "metadata": {},
   "outputs": [
    {
     "name": "stdout",
     "output_type": "stream",
     "text": [
      "Wrote all mutated positions DF to file.\n"
     ]
    }
   ],
   "source": [
    "ref_mutated_pos = []\n",
    "seq_1_mutated_pos = []\n",
    "seq_2_mutated_pos = []\n",
    "seq_3_mutated_pos = []\n",
    "\n",
    "for position in all_mutated_positions:\n",
    "    mutated_index = position - 1\n",
    "    ref_mutated_pos.append(ref_sequence_r.seq[mutated_index])\n",
    "    seq_1_mutated_pos.append(seq_1[0].seq[mutated_index])\n",
    "    seq_2_mutated_pos.append(seq_2[0].seq[mutated_index])\n",
    "    seq_3_mutated_pos.append(seq_3[0].seq[mutated_index])\n",
    "\n",
    "import pandas\n",
    "mutated_pos_df = pandas.DataFrame({\"Mutated_Position\":all_mutated_positions, \"Reference_Base\":ref_mutated_pos, \"Seq_1_Base\":seq_1_mutated_pos, \"Seq_2_Base\":seq_2_mutated_pos, \"Seq_3_Base\":seq_3_mutated_pos})\n",
    "mutated_pos_df.to_csv(\"/home/conrad/hinfluenzae/synthetic_Rd_KW20_dataset/all_mutated_positions.txt\", header=True, sep='\\t')\n",
    "print(\"Wrote all mutated positions DF to file.\")"
   ]
  },
  {
   "cell_type": "code",
   "execution_count": 160,
   "metadata": {},
   "outputs": [
    {
     "name": "stdout",
     "output_type": "stream",
     "text": [
      "Wrote individual mutated positions to file.\n"
     ]
    }
   ],
   "source": [
    "seq_1_sorted_mutations = sorted(seq_1[1].copy())\n",
    "seq_2_sorted_mutations = sorted(seq_2[1].copy())\n",
    "seq_3_sorted_mutations = sorted(seq_3[1].copy())\n",
    "\n",
    "ref_seq_1_pos = []\n",
    "ref_seq_2_pos = []\n",
    "ref_seq_3_pos = []\n",
    "\n",
    "seq_1_pos = []\n",
    "seq_2_pos = []\n",
    "seq_3_pos = []\n",
    "\n",
    "for position in seq_1_sorted_mutations:\n",
    "    pos_index = position-1\n",
    "    ref_seq_1_pos.append(ref_sequence_r.seq[pos_index])\n",
    "    seq_1_pos.append(seq_1[0].seq[pos_index])\n",
    "for position in seq_2_sorted_mutations:\n",
    "    pos_index = position-1\n",
    "    ref_seq_2_pos.append(ref_sequence_r.seq[pos_index])\n",
    "    seq_2_pos.append(seq_2[0].seq[pos_index])\n",
    "for position in seq_1_sorted_mutations:\n",
    "    pos_index = position-1\n",
    "    ref_seq_3_pos.append(ref_sequence_r.seq[pos_index])\n",
    "    seq_3_pos.append(seq_3[0].seq[pos_index])\n",
    "\n",
    "seq_1_df = pandas.DataFrame({\"Mutated_Position\":seq_1_sorted_mutations, \"Reference_Base\":ref_seq_1_pos, \"Seq_1_Base\":seq_1_pos})\n",
    "seq_2_df = pandas.DataFrame({\"Mutated_Position\":seq_2_sorted_mutations, \"Reference_Base\":ref_seq_2_pos, \"Seq_1_Base\":seq_2_pos})\n",
    "seq_3_df = pandas.DataFrame({\"Mutated_Position\":seq_3_sorted_mutations, \"Reference_Base\":ref_seq_3_pos, \"Seq_1_Base\":seq_3_pos})\n",
    "\n",
    "seq_1_df.to_csv(\"/home/conrad/hinfluenzae/synthetic_Rd_KW20_dataset/seq_1_mutated_positions.txt\", header=True, sep='\\t')\n",
    "seq_2_df.to_csv(\"/home/conrad/hinfluenzae/synthetic_Rd_KW20_dataset/seq_2_mutated_positions.txt\", header=True, sep='\\t')\n",
    "seq_3_df.to_csv(\"/home/conrad/hinfluenzae/synthetic_Rd_KW20_dataset/seq_3_mutated_positions.txt\", header=True, sep='\\t')\n",
    "\n",
    "print(\"Wrote individual mutated positions to file.\")"
   ]
  },
  {
   "cell_type": "code",
   "execution_count": null,
   "metadata": {},
   "outputs": [],
   "source": []
  }
 ],
 "metadata": {
  "kernelspec": {
   "display_name": "Python 3",
   "language": "python",
   "name": "python3"
  },
  "language_info": {
   "codemirror_mode": {
    "name": "ipython",
    "version": 3
   },
   "file_extension": ".py",
   "mimetype": "text/x-python",
   "name": "python",
   "nbconvert_exporter": "python",
   "pygments_lexer": "ipython3",
   "version": "3.7.0"
  }
 },
 "nbformat": 4,
 "nbformat_minor": 2
}
